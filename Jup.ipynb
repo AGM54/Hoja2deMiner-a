{
 "cells": [
  {
   "cell_type": "code",
   "execution_count": null,
   "metadata": {},
   "outputs": [],
   "source": [
    "1."
   ]
  },
  {
   "cell_type": "code",
   "execution_count": 2,
   "metadata": {},
   "outputs": [
    {
     "name": "stdout",
     "output_type": "stream",
     "text": [
      "     budget   revenue   runtime  popularity   voteAvg  voteCount  \\\n",
      "0 -0.404342 -0.355681 -0.086728   -0.142920 -0.809539   0.274380   \n",
      "1  0.055440 -0.303564  0.343289   -0.195656  0.007403  -0.442230   \n",
      "2 -0.215020  4.744733  0.737472    0.226864  1.743405   5.887053   \n",
      "3  2.029796  5.835649 -0.015059    0.387782  1.334934   5.628083   \n",
      "4  0.975003  4.096481  1.490002    0.034071  2.049758   7.992433   \n",
      "\n",
      "   genresAmount  productionCoAmount  productionCountriesAmount  actorsAmount  \n",
      "0     -0.519953           -0.468349                  -0.250235     -0.057791  \n",
      "1      0.344007           -0.078445                   0.078158     -0.058056  \n",
      "2      0.344007           -0.468349                  -0.250235     -0.055667  \n",
      "3     -0.519953           -0.858253                  -0.250235     -0.057818  \n",
      "4      0.344007           -0.468349                  -0.250235     -0.056437  \n"
     ]
    }
   ],
   "source": [
    "import pandas as pd\n",
    "from sklearn.pipeline import Pipeline\n",
    "from sklearn.impute import SimpleImputer\n",
    "from sklearn.preprocessing import StandardScaler\n",
    "\n",
    "\n",
    "movies_df = pd.read_csv(\"./movies.csv\",na_values='NA', keep_default_na=False , encoding = \"ISO-8859-1\")\n",
    "\n",
    "# Seleccionar las columnas numéricas para el análisis\n",
    "features_num = [\n",
    "    'budget', 'revenue', 'runtime', 'popularity', 'voteAvg', 'voteCount',\n",
    "    'genresAmount', 'productionCoAmount', 'productionCountriesAmount', 'actorsAmount'\n",
    "]\n",
    "\n",
    "# Preparar el preprocesamiento para las variables numéricas\n",
    "\n",
    "numeric_transformer = Pipeline(steps=[\n",
    "    ('imputer', SimpleImputer(strategy='mean')),  # Imputar valores faltantes con la media\n",
    "    ('scaler', StandardScaler())  # Escalar las variables\n",
    "])\n",
    "\n",
    "# Aplicar el preprocesamiento a las variables numéricas\n",
    "X_preprocessed = numeric_transformer.fit_transform(movies_df[features_num])\n",
    "X_preprocessed_df = pd.DataFrame(X_preprocessed, columns=features_num)\n",
    "# Guardar el DataFrame preprocesado en un archivo CSV\n",
    "X_preprocessed_df.to_csv(\"./movies.csv\", index=False)\n",
    "\n",
    "print(X_preprocessed_df.head())\n"
   ]
  }
 ],
 "metadata": {
  "kernelspec": {
   "display_name": "Python 3",
   "language": "python",
   "name": "python3"
  },
  "language_info": {
   "codemirror_mode": {
    "name": "ipython",
    "version": 3
   },
   "file_extension": ".py",
   "mimetype": "text/x-python",
   "name": "python",
   "nbconvert_exporter": "python",
   "pygments_lexer": "ipython3",
   "version": "3.12.1"
  }
 },
 "nbformat": 4,
 "nbformat_minor": 2
}
